{
  "cells": [
    {
      "cell_type": "code",
      "execution_count": 1,
      "metadata": {
        "id": "nCXsZ967uTq3"
      },
      "outputs": [],
      "source": [
        "# Import libraries\n",
        "import pandas as pd\n",
        "import numpy as np\n",
        "import time\n",
        "import random\n",
        "import queue\n",
        "import datetime\n",
        "from queue import Queue\n",
        "from collections import deque"
      ]
    },
    {
      "cell_type": "code",
      "execution_count": 2,
      "metadata": {
        "id": "xexeDLOyb0Qp"
      },
      "outputs": [],
      "source": [
        "# define variables for the dataset\n",
        "arrival_time = []\n",
        "run_time = []\n",
        "memory_usage = []\n",
        "cpu_usage = []\n",
        "\n",
        "# define the number of data points in the dataset\n",
        "num_data_points = 10\n",
        "\n",
        "data = []\n",
        "\n",
        "# generate random values for the dataset\n",
        "for i in range(num_data_points):\n",
        "  datapoint = {\n",
        "    'arrival_time': random.randint(1, 100),\n",
        "    'run_time': random.randint(1, 10),\n",
        "    'memory_usage': random.randint(1, 100),\n",
        "    'cpu_usage': random.randint(1, 100),\n",
        "    'execution_time': None,\n",
        "    'energy_consumption': None,\n",
        "    'cost': None\n",
        "  }\n",
        "  data.append(datapoint)"
      ]
    },
    {
      "cell_type": "code",
      "execution_count": 3,
      "metadata": {
        "colab": {
          "base_uri": "https://localhost:8080/"
        },
        "id": "jdxwtt7S56Ze",
        "outputId": "bc064706-6fce-43b1-e38c-f5f047cc0c98"
      },
      "outputs": [
        {
          "name": "stdout",
          "output_type": "stream",
          "text": [
            "[{'arrival_time': 82, 'run_time': 6, 'memory_usage': 84, 'cpu_usage': 99, 'execution_time': None, 'energy_consumption': None, 'cost': None}, {'arrival_time': 13, 'run_time': 6, 'memory_usage': 20, 'cpu_usage': 56, 'execution_time': None, 'energy_consumption': None, 'cost': None}, {'arrival_time': 69, 'run_time': 5, 'memory_usage': 68, 'cpu_usage': 81, 'execution_time': None, 'energy_consumption': None, 'cost': None}, {'arrival_time': 56, 'run_time': 7, 'memory_usage': 80, 'cpu_usage': 50, 'execution_time': None, 'energy_consumption': None, 'cost': None}, {'arrival_time': 95, 'run_time': 1, 'memory_usage': 42, 'cpu_usage': 59, 'execution_time': None, 'energy_consumption': None, 'cost': None}, {'arrival_time': 87, 'run_time': 9, 'memory_usage': 57, 'cpu_usage': 74, 'execution_time': None, 'energy_consumption': None, 'cost': None}, {'arrival_time': 78, 'run_time': 3, 'memory_usage': 84, 'cpu_usage': 6, 'execution_time': None, 'energy_consumption': None, 'cost': None}, {'arrival_time': 30, 'run_time': 5, 'memory_usage': 83, 'cpu_usage': 72, 'execution_time': None, 'energy_consumption': None, 'cost': None}, {'arrival_time': 99, 'run_time': 6, 'memory_usage': 17, 'cpu_usage': 50, 'execution_time': None, 'energy_consumption': None, 'cost': None}, {'arrival_time': 68, 'run_time': 1, 'memory_usage': 12, 'cpu_usage': 41, 'execution_time': None, 'energy_consumption': None, 'cost': None}]\n"
          ]
        }
      ],
      "source": [
        "# print the resulting list of dictionaries\n",
        "print(data)"
      ]
    },
    {
      "cell_type": "code",
      "execution_count": 4,
      "metadata": {
        "colab": {
          "base_uri": "https://localhost:8080/"
        },
        "id": "WFf3yVCSle9n",
        "outputId": "f67b9644-6b80-41b8-bfa8-65965faa6928"
      },
      "outputs": [
        {
          "name": "stdout",
          "output_type": "stream",
          "text": [
            "   arrival_time  run_time  memory_usage  cpu_usage execution_time  \\\n",
            "0            82         6            84         99           None   \n",
            "1            13         6            20         56           None   \n",
            "2            69         5            68         81           None   \n",
            "3            56         7            80         50           None   \n",
            "4            95         1            42         59           None   \n",
            "5            87         9            57         74           None   \n",
            "6            78         3            84          6           None   \n",
            "7            30         5            83         72           None   \n",
            "8            99         6            17         50           None   \n",
            "9            68         1            12         41           None   \n",
            "\n",
            "  energy_consumption  cost  \n",
            "0               None  None  \n",
            "1               None  None  \n",
            "2               None  None  \n",
            "3               None  None  \n",
            "4               None  None  \n",
            "5               None  None  \n",
            "6               None  None  \n",
            "7               None  None  \n",
            "8               None  None  \n",
            "9               None  None  \n"
          ]
        }
      ],
      "source": [
        "# Create a dataframe from the data list\n",
        "df = pd.DataFrame(data)\n",
        "\n",
        "# Print the dataframe to the screen\n",
        "print(df)"
      ]
    },
    {
      "cell_type": "code",
      "execution_count": 5,
      "metadata": {
        "id": "vKZFGwE_xLiO"
      },
      "outputs": [],
      "source": [
        "# sort the dataset by arrival time\n",
        "data.sort(key=lambda x: x['arrival_time'])"
      ]
    },
    {
      "cell_type": "code",
      "execution_count": 6,
      "metadata": {
        "colab": {
          "base_uri": "https://localhost:8080/"
        },
        "id": "pGEg0QoBx1YG",
        "outputId": "54769102-adfd-4d8c-ff9a-479fa92d24a6"
      },
      "outputs": [
        {
          "name": "stdout",
          "output_type": "stream",
          "text": [
            "   arrival_time  run_time  memory_usage  cpu_usage execution_time  \\\n",
            "0            13         6            20         56           None   \n",
            "1            30         5            83         72           None   \n",
            "2            56         7            80         50           None   \n",
            "3            68         1            12         41           None   \n",
            "4            69         5            68         81           None   \n",
            "5            78         3            84          6           None   \n",
            "6            82         6            84         99           None   \n",
            "7            87         9            57         74           None   \n",
            "8            95         1            42         59           None   \n",
            "9            99         6            17         50           None   \n",
            "\n",
            "  energy_consumption  cost  \n",
            "0               None  None  \n",
            "1               None  None  \n",
            "2               None  None  \n",
            "3               None  None  \n",
            "4               None  None  \n",
            "5               None  None  \n",
            "6               None  None  \n",
            "7               None  None  \n",
            "8               None  None  \n",
            "9               None  None  \n"
          ]
        }
      ],
      "source": [
        "# Create a dataframe from the data list\n",
        "df = pd.DataFrame(data)\n",
        "\n",
        "# Print the dataframe to the screen\n",
        "print(df)"
      ]
    },
    {
      "cell_type": "code",
      "execution_count": 7,
      "metadata": {
        "id": "QcE9fbVi28II"
      },
      "outputs": [],
      "source": [
        "#function to print the available resources of each fog node\n",
        "def print_resources(fog_nodes, nodes_resources):\n",
        "    for node in fog_nodes:\n",
        "        resources = nodes_resources[node]\n",
        "        print(\"Available resources in {} after execution: CPU = {}, Memory = {}\".format(node, nodes_resources[node][\"cpu\"], nodes_resources[node][\"memory\"]))\n",
        "\n",
        "def process_task(task, node, nodes_resources):\n",
        "    start_time = datetime.datetime.now()\n",
        "    print(\"Processing task:\", task)\n",
        "    print(\"Assigned to node: {}\".format(node))\n",
        "    #while (datetime.datetime.now() - start_time).total_seconds() < 5:\n",
        "    time.sleep(task['run_time'])\n",
        "    end_time = datetime.datetime.now()\n",
        "    task['execution_time'] = end_time - start_time\n",
        "    task['energy_consumption'] = calculate_energy_consumption(task)\n",
        "    task['cost'] = calculate_cost(task)\n",
        "    print(\"Execution time: {}\".format(task['execution_time']))\n",
        "    print(\"Energy consumption: {}\".format(task['energy_consumption']))\n",
        "    print(\"Cost: {}\".format(task['cost']))\n",
        "\n",
        "\n",
        "def calculate_energy_consumption(task):\n",
        "    # calculate energy consumption based on CPU usage and memory usage\n",
        "    energy_consumption = task['cpu_usage'] * 0.1 + task['memory_usage'] * 0.05\n",
        "    return energy_consumption\n",
        "\n",
        "def calculate_cost(task):\n",
        "    # calculate cost based on energy consumption, execution time, and other factors\n",
        "    cost = task['energy_consumption'] * 0.1 + task['execution_time'].total_seconds() * 0.05\n",
        "    return cost\n",
        "    \n",
        "def release_resources(task, node, nodes_resources):\n",
        "    nodes_resources[node][\"cpu\"] += task['cpu_usage']\n",
        "    nodes_resources[node ][\"memory\"] += task['memory_usage']\n",
        "  \n",
        "fog_nodes = ['Node1', 'Node2', 'Node3', 'Node4', 'Node5']\n",
        "\n",
        "# initialize total variables\n",
        "total_execution_time = datetime.timedelta(seconds=0)\n",
        "total_energy_consumption = 0\n",
        "total_cost = 0"
      ]
    },
    {
      "cell_type": "code",
      "execution_count": 8,
      "metadata": {
        "colab": {
          "base_uri": "https://localhost:8080/"
        },
        "id": "uAsumRI2mCMf",
        "outputId": "9da362ee-89fa-4e15-8303-c75438b9615e"
      },
      "outputs": [
        {
          "name": "stdout",
          "output_type": "stream",
          "text": [
            "Task assigned: {'arrival_time': 13, 'run_time': 6, 'memory_usage': 20, 'cpu_usage': 56, 'execution_time': None, 'energy_consumption': None, 'cost': None}\n",
            "Available resources in Node1 before processing task: CPU = 100, Memory = 100\n",
            "Processing task: {'arrival_time': 13, 'run_time': 6, 'memory_usage': 20, 'cpu_usage': 56, 'execution_time': None, 'energy_consumption': None, 'cost': None}\n",
            "Assigned to node: Node1\n",
            "Execution time: 0:00:06.004693\n",
            "Energy consumption: 6.6000000000000005\n",
            "Cost: 0.9602346500000001\n",
            "Resources used by task during execution: CPU = 56, Memory = 20\n",
            "Available resources in Node1 after execution: CPU = 100, Memory = 100\n",
            "Available resources in Node2 after execution: CPU = 100, Memory = 100\n",
            "Available resources in Node3 after execution: CPU = 100, Memory = 100\n",
            "Available resources in Node4 after execution: CPU = 100, Memory = 100\n",
            "Available resources in Node5 after execution: CPU = 100, Memory = 100\n",
            "\n",
            "Task assigned: {'arrival_time': 30, 'run_time': 5, 'memory_usage': 83, 'cpu_usage': 72, 'execution_time': None, 'energy_consumption': None, 'cost': None}\n",
            "Available resources in Node2 before processing task: CPU = 100, Memory = 100\n",
            "Processing task: {'arrival_time': 30, 'run_time': 5, 'memory_usage': 83, 'cpu_usage': 72, 'execution_time': None, 'energy_consumption': None, 'cost': None}\n",
            "Assigned to node: Node2\n",
            "Execution time: 0:00:05.005533\n",
            "Energy consumption: 11.350000000000001\n",
            "Cost: 1.3852766500000002\n",
            "Resources used by task during execution: CPU = 72, Memory = 83\n",
            "Available resources in Node1 after execution: CPU = 100, Memory = 100\n",
            "Available resources in Node2 after execution: CPU = 100, Memory = 100\n",
            "Available resources in Node3 after execution: CPU = 100, Memory = 100\n",
            "Available resources in Node4 after execution: CPU = 100, Memory = 100\n",
            "Available resources in Node5 after execution: CPU = 100, Memory = 100\n",
            "\n",
            "Task assigned: {'arrival_time': 56, 'run_time': 7, 'memory_usage': 80, 'cpu_usage': 50, 'execution_time': None, 'energy_consumption': None, 'cost': None}\n",
            "Available resources in Node2 before processing task: CPU = 100, Memory = 100\n",
            "Processing task: {'arrival_time': 56, 'run_time': 7, 'memory_usage': 80, 'cpu_usage': 50, 'execution_time': None, 'energy_consumption': None, 'cost': None}\n",
            "Assigned to node: Node2\n",
            "Execution time: 0:00:07.001341\n",
            "Energy consumption: 9.0\n",
            "Cost: 1.2500670500000002\n",
            "Resources used by task during execution: CPU = 50, Memory = 80\n",
            "Available resources in Node1 after execution: CPU = 100, Memory = 100\n",
            "Available resources in Node2 after execution: CPU = 100, Memory = 100\n",
            "Available resources in Node3 after execution: CPU = 100, Memory = 100\n",
            "Available resources in Node4 after execution: CPU = 100, Memory = 100\n",
            "Available resources in Node5 after execution: CPU = 100, Memory = 100\n",
            "\n",
            "Task assigned: {'arrival_time': 68, 'run_time': 1, 'memory_usage': 12, 'cpu_usage': 41, 'execution_time': None, 'energy_consumption': None, 'cost': None}\n",
            "Available resources in Node3 before processing task: CPU = 100, Memory = 100\n",
            "Processing task: {'arrival_time': 68, 'run_time': 1, 'memory_usage': 12, 'cpu_usage': 41, 'execution_time': None, 'energy_consumption': None, 'cost': None}\n",
            "Assigned to node: Node3\n",
            "Execution time: 0:00:01.000552\n",
            "Energy consumption: 4.700000000000001\n",
            "Cost: 0.5200276000000001\n",
            "Resources used by task during execution: CPU = 41, Memory = 12\n",
            "Available resources in Node1 after execution: CPU = 100, Memory = 100\n",
            "Available resources in Node2 after execution: CPU = 100, Memory = 100\n",
            "Available resources in Node3 after execution: CPU = 100, Memory = 100\n",
            "Available resources in Node4 after execution: CPU = 100, Memory = 100\n",
            "Available resources in Node5 after execution: CPU = 100, Memory = 100\n",
            "\n",
            "Task assigned: {'arrival_time': 69, 'run_time': 5, 'memory_usage': 68, 'cpu_usage': 81, 'execution_time': None, 'energy_consumption': None, 'cost': None}\n",
            "Available resources in Node2 before processing task: CPU = 100, Memory = 100\n",
            "Processing task: {'arrival_time': 69, 'run_time': 5, 'memory_usage': 68, 'cpu_usage': 81, 'execution_time': None, 'energy_consumption': None, 'cost': None}\n",
            "Assigned to node: Node2\n",
            "Execution time: 0:00:05.005136\n",
            "Energy consumption: 11.5\n",
            "Cost: 1.4002568000000002\n",
            "Resources used by task during execution: CPU = 81, Memory = 68\n",
            "Available resources in Node1 after execution: CPU = 100, Memory = 100\n",
            "Available resources in Node2 after execution: CPU = 100, Memory = 100\n",
            "Available resources in Node3 after execution: CPU = 100, Memory = 100\n",
            "Available resources in Node4 after execution: CPU = 100, Memory = 100\n",
            "Available resources in Node5 after execution: CPU = 100, Memory = 100\n",
            "\n",
            "Task assigned: {'arrival_time': 78, 'run_time': 3, 'memory_usage': 84, 'cpu_usage': 6, 'execution_time': None, 'energy_consumption': None, 'cost': None}\n",
            "Available resources in Node4 before processing task: CPU = 100, Memory = 100\n",
            "Processing task: {'arrival_time': 78, 'run_time': 3, 'memory_usage': 84, 'cpu_usage': 6, 'execution_time': None, 'energy_consumption': None, 'cost': None}\n",
            "Assigned to node: Node4\n",
            "Execution time: 0:00:03.003142\n",
            "Energy consumption: 4.800000000000001\n",
            "Cost: 0.6301571000000001\n",
            "Resources used by task during execution: CPU = 6, Memory = 84\n",
            "Available resources in Node1 after execution: CPU = 100, Memory = 100\n",
            "Available resources in Node2 after execution: CPU = 100, Memory = 100\n",
            "Available resources in Node3 after execution: CPU = 100, Memory = 100\n",
            "Available resources in Node4 after execution: CPU = 100, Memory = 100\n",
            "Available resources in Node5 after execution: CPU = 100, Memory = 100\n",
            "\n",
            "Task assigned: {'arrival_time': 82, 'run_time': 6, 'memory_usage': 84, 'cpu_usage': 99, 'execution_time': None, 'energy_consumption': None, 'cost': None}\n",
            "Available resources in Node2 before processing task: CPU = 100, Memory = 100\n",
            "Processing task: {'arrival_time': 82, 'run_time': 6, 'memory_usage': 84, 'cpu_usage': 99, 'execution_time': None, 'energy_consumption': None, 'cost': None}\n",
            "Assigned to node: Node2\n",
            "Execution time: 0:00:06.006122\n",
            "Energy consumption: 14.100000000000001\n",
            "Cost: 1.7103061000000002\n",
            "Resources used by task during execution: CPU = 99, Memory = 84\n",
            "Available resources in Node1 after execution: CPU = 100, Memory = 100\n",
            "Available resources in Node2 after execution: CPU = 100, Memory = 100\n",
            "Available resources in Node3 after execution: CPU = 100, Memory = 100\n",
            "Available resources in Node4 after execution: CPU = 100, Memory = 100\n",
            "Available resources in Node5 after execution: CPU = 100, Memory = 100\n",
            "\n",
            "Task assigned: {'arrival_time': 87, 'run_time': 9, 'memory_usage': 57, 'cpu_usage': 74, 'execution_time': None, 'energy_consumption': None, 'cost': None}\n",
            "Available resources in Node5 before processing task: CPU = 100, Memory = 100\n",
            "Processing task: {'arrival_time': 87, 'run_time': 9, 'memory_usage': 57, 'cpu_usage': 74, 'execution_time': None, 'energy_consumption': None, 'cost': None}\n",
            "Assigned to node: Node5\n",
            "Execution time: 0:00:09.009130\n",
            "Energy consumption: 10.25\n",
            "Cost: 1.4754565000000002\n",
            "Resources used by task during execution: CPU = 74, Memory = 57\n",
            "Available resources in Node1 after execution: CPU = 100, Memory = 100\n",
            "Available resources in Node2 after execution: CPU = 100, Memory = 100\n",
            "Available resources in Node3 after execution: CPU = 100, Memory = 100\n",
            "Available resources in Node4 after execution: CPU = 100, Memory = 100\n",
            "Available resources in Node5 after execution: CPU = 100, Memory = 100\n",
            "\n",
            "Task assigned: {'arrival_time': 95, 'run_time': 1, 'memory_usage': 42, 'cpu_usage': 59, 'execution_time': None, 'energy_consumption': None, 'cost': None}\n",
            "Available resources in Node2 before processing task: CPU = 100, Memory = 100\n",
            "Processing task: {'arrival_time': 95, 'run_time': 1, 'memory_usage': 42, 'cpu_usage': 59, 'execution_time': None, 'energy_consumption': None, 'cost': None}\n",
            "Assigned to node: Node2\n",
            "Execution time: 0:00:01.001153\n",
            "Energy consumption: 8.0\n",
            "Cost: 0.85005765\n",
            "Resources used by task during execution: CPU = 59, Memory = 42\n",
            "Available resources in Node1 after execution: CPU = 100, Memory = 100\n",
            "Available resources in Node2 after execution: CPU = 100, Memory = 100\n",
            "Available resources in Node3 after execution: CPU = 100, Memory = 100\n",
            "Available resources in Node4 after execution: CPU = 100, Memory = 100\n",
            "Available resources in Node5 after execution: CPU = 100, Memory = 100\n",
            "\n",
            "Task assigned: {'arrival_time': 99, 'run_time': 6, 'memory_usage': 17, 'cpu_usage': 50, 'execution_time': None, 'energy_consumption': None, 'cost': None}\n",
            "Available resources in Node1 before processing task: CPU = 100, Memory = 100\n",
            "Processing task: {'arrival_time': 99, 'run_time': 6, 'memory_usage': 17, 'cpu_usage': 50, 'execution_time': None, 'energy_consumption': None, 'cost': None}\n",
            "Assigned to node: Node1\n",
            "Execution time: 0:00:06.013195\n",
            "Energy consumption: 5.85\n",
            "Cost: 0.88565975\n",
            "Resources used by task during execution: CPU = 50, Memory = 17\n",
            "Available resources in Node1 after execution: CPU = 100, Memory = 100\n",
            "Available resources in Node2 after execution: CPU = 100, Memory = 100\n",
            "Available resources in Node3 after execution: CPU = 100, Memory = 100\n",
            "Available resources in Node4 after execution: CPU = 100, Memory = 100\n",
            "Available resources in Node5 after execution: CPU = 100, Memory = 100\n",
            "\n",
            "Data points assigned to Node1:\n",
            "[{'arrival_time': 13, 'run_time': 6, 'memory_usage': 20, 'cpu_usage': 56, 'execution_time': datetime.timedelta(seconds=6, microseconds=4693), 'energy_consumption': 6.6000000000000005, 'cost': 0.9602346500000001}, {'arrival_time': 99, 'run_time': 6, 'memory_usage': 17, 'cpu_usage': 50, 'execution_time': datetime.timedelta(seconds=6, microseconds=13195), 'energy_consumption': 5.85, 'cost': 0.88565975}]\n",
            "\n",
            "Data points assigned to Node2:\n",
            "[{'arrival_time': 30, 'run_time': 5, 'memory_usage': 83, 'cpu_usage': 72, 'execution_time': datetime.timedelta(seconds=5, microseconds=5533), 'energy_consumption': 11.350000000000001, 'cost': 1.3852766500000002}, {'arrival_time': 56, 'run_time': 7, 'memory_usage': 80, 'cpu_usage': 50, 'execution_time': datetime.timedelta(seconds=7, microseconds=1341), 'energy_consumption': 9.0, 'cost': 1.2500670500000002}, {'arrival_time': 69, 'run_time': 5, 'memory_usage': 68, 'cpu_usage': 81, 'execution_time': datetime.timedelta(seconds=5, microseconds=5136), 'energy_consumption': 11.5, 'cost': 1.4002568000000002}, {'arrival_time': 82, 'run_time': 6, 'memory_usage': 84, 'cpu_usage': 99, 'execution_time': datetime.timedelta(seconds=6, microseconds=6122), 'energy_consumption': 14.100000000000001, 'cost': 1.7103061000000002}, {'arrival_time': 95, 'run_time': 1, 'memory_usage': 42, 'cpu_usage': 59, 'execution_time': datetime.timedelta(seconds=1, microseconds=1153), 'energy_consumption': 8.0, 'cost': 0.85005765}]\n",
            "\n",
            "Data points assigned to Node3:\n",
            "[{'arrival_time': 68, 'run_time': 1, 'memory_usage': 12, 'cpu_usage': 41, 'execution_time': datetime.timedelta(seconds=1, microseconds=552), 'energy_consumption': 4.700000000000001, 'cost': 0.5200276000000001}]\n",
            "\n",
            "Data points assigned to Node4:\n",
            "[{'arrival_time': 78, 'run_time': 3, 'memory_usage': 84, 'cpu_usage': 6, 'execution_time': datetime.timedelta(seconds=3, microseconds=3142), 'energy_consumption': 4.800000000000001, 'cost': 0.6301571000000001}]\n",
            "\n",
            "Data points assigned to Node5:\n",
            "[{'arrival_time': 87, 'run_time': 9, 'memory_usage': 57, 'cpu_usage': 74, 'execution_time': datetime.timedelta(seconds=9, microseconds=9130), 'energy_consumption': 10.25, 'cost': 1.4754565000000002}]\n",
            "\n",
            "Total execution time: 0:00:49.049997\n",
            "Total energy consumption: 86.15\n",
            "Total cost: 11.067499850000003\n"
          ]
        }
      ],
      "source": [
        "# function to apply load balancing using the round robin algorithm\n",
        "def round_robin_load_balancing(data, fog_nodes):\n",
        "    # dictionary to store the data points assigned to each fog node\n",
        "    nodes_data = {node: [] for node in fog_nodes}\n",
        "    # dictionary to store the available usage of each fog node\n",
        "    nodes_resources = {\n",
        "        \"Node1\": {'cpu': 100, 'memory': 100},\n",
        "        \"Node2\": {'cpu': 100, 'memory': 100},\n",
        "        \"Node3\": {'cpu': 100, 'memory': 100},\n",
        "        \"Node4\": {'cpu': 100, 'memory': 100},\n",
        "        \"Node5\": {'cpu': 100, 'memory': 100}\n",
        "    }\n",
        "   \n",
        "    # create a queue to store the tasks\n",
        "    task_queue = deque(data)\n",
        "    # initialize the node variable\n",
        "    node = None\n",
        "\n",
        "    # continuously process tasks in the queue using the round robin algorithm\n",
        "    while task_queue:\n",
        "        # get the next task in the queue using the round robin algorithm\n",
        "        task = task_queue.popleft()\n",
        "\n",
        "        # assign the task to the next fog node in the list using the round robin algorithm\n",
        "        node = fog_nodes[len(nodes_data[node]) % len(fog_nodes)] if node else fog_nodes[0]\n",
        "        print(\"Task assigned:\", task)\n",
        "\n",
        "        # check if there are enough available resources to process the task\n",
        "        if task['cpu_usage'] <= nodes_resources[node][\"cpu\"] and task['memory_usage'] <= nodes_resources[node][\"memory\"]:\n",
        "            print(\"Available resources in {} before processing task: CPU = {}, Memory = {}\".format(node, nodes_resources[node][\"cpu\"], nodes_resources[node][\"memory\"]))\n",
        "\n",
        "            process_task(task, node, nodes_resources)\n",
        "            \n",
        "            # subtract the resources used by the task from the available resources\n",
        "            nodes_resources[node][\"cpu\"] -= task['cpu_usage']\n",
        "            nodes_resources[node][\"memory\"] -= task['memory_usage']\n",
        "            print(\"Resources used by task during execution: CPU = {}, Memory = {}\".format(task['cpu_usage'], task['memory_usage']))\n",
        "            release_resources(task, node, nodes_resources)\n",
        "\n",
        "            #print the available resources of each fog node\n",
        "            print_resources(fog_nodes, nodes_resources)\n",
        "            print()\n",
        "\n",
        "            # assign the task to the fog node\n",
        "            nodes_data[node].append(task)\n",
        "\n",
        "        else:\n",
        "            # not enough resources are available, put the task back in the queue\n",
        "            task_queue.append(task)\n",
        "            \n",
        "    return nodes_data, nodes_resources\n",
        "    \n",
        "#load balance the data using round robin algorithm\n",
        "nodes_data, nodes_resources = round_robin_load_balancing(data, fog_nodes)\n",
        "\n",
        "#print the data points assigned to each fog node\n",
        "for node, node_data in nodes_data.items():\n",
        "    print(\"Data points assigned to {}:\".format(node))\n",
        "    print(node_data)\n",
        "    print()\n",
        "\n",
        "# calculate and print total execution time, cost, and energy consumption\n",
        "for task in data:\n",
        "    total_execution_time += task['execution_time']\n",
        "    total_energy_consumption += task['energy_consumption']\n",
        "    total_cost += task['cost']\n",
        "\n",
        "print(\"Total execution time: {}\".format(total_execution_time))\n",
        "print(\"Total energy consumption: {}\".format(total_energy_consumption))\n",
        "print(\"Total cost: {}\".format(total_cost))"
      ]
    },
    {
      "cell_type": "code",
      "execution_count": 9,
      "metadata": {
        "colab": {
          "base_uri": "https://localhost:8080/",
          "height": 295
        },
        "id": "Ekg-lduBID_S",
        "outputId": "ca5a1e6e-035c-42af-b6b5-970e7e18ec49"
      },
      "outputs": [
        {
          "data": {
            "image/png": "[encoded data removed]",
            "text/plain": [
              "<Figure size 432x288 with 1 Axes>"
            ]
          },
          "metadata": {
            "needs_background": "light"
          },
          "output_type": "display_data"
        }
      ],
      "source": [
        "import matplotlib.pyplot as plt\n",
        "\n",
        "# extract the cost of each task from the data\n",
        "costs = [task['cost'] for task in data]\n",
        "\n",
        "# plot the line graph\n",
        "plt.plot(costs)\n",
        "\n",
        "# add a title and labels for the x and y axes\n",
        "plt.title(\"Cost of Each Task\")\n",
        "plt.xlabel(\"Task Number\")\n",
        "plt.ylabel(\"Cost\")\n",
        "\n",
        "# show the plot\n",
        "plt.show()"
      ]
    },
    {
      "cell_type": "code",
      "execution_count": 17,
      "metadata": {
        "colab": {
          "base_uri": "https://localhost:8080/",
          "height": 295
        },
        "id": "-LhzqCzQttv4",
        "outputId": "ff807681-7b7d-4a11-a64a-51d962620126"
      },
      "outputs": [
        {
          "data": {
            "image/png": "[encoded data removed]",
            "text/plain": [
              "<Figure size 432x288 with 1 Axes>"
            ]
          },
          "metadata": {
            "needs_background": "light"
          },
          "output_type": "display_data"
        }
      ],
      "source": [
        "# extract the cost of each task from the data\n",
        "energy = [task['energy_consumption'] for task in data]\n",
        "\n",
        "# plot the line graph\n",
        "plt.plot(energy)\n",
        "\n",
        "# add a title and labels for the x and y axes\n",
        "plt.title(\"Energy Consumption of Each Task\")\n",
        "plt.xlabel(\"Task Number\")\n",
        "plt.ylabel(\"Energy Consumption\")\n",
        "\n",
        "# show the plot\n",
        "plt.show()"
      ]
    }
  ],
  "metadata": {
    "colab": {
      "provenance": []
    },
    "kernelspec": {
      "display_name": "Python 3",
      "name": "python3"
    },
    "language_info": {
      "name": "python"
    }
  },
  "nbformat": 4,
  "nbformat_minor": 0
}
